{
 "cells": [
  {
   "cell_type": "code",
   "execution_count": 13,
   "id": "88b14cc7",
   "metadata": {},
   "outputs": [
    {
     "name": "stdout",
     "output_type": "stream",
     "text": [
      "[1, 2, 3, 'KRish']\n",
      "{'Name': 'Krish', 'Age': 20}\n",
      "('India', 'England')\n"
     ]
    }
   ],
   "source": [
    "### Data Strucutres\n",
    "\n",
    "lst=[1,2,3,\"KRish\"]\n",
    "dict1={\"Name\":\"Krish\",\"Age\":20}\n",
    "tuple=(\"India\",\"England\")\n",
    "print(lst)\n",
    "print(dict1)\n",
    "print(tuple)"
   ]
  },
  {
   "cell_type": "code",
   "execution_count": null,
   "id": "95ef4395",
   "metadata": {},
   "outputs": [],
   "source": []
  },
  {
   "cell_type": "code",
   "execution_count": 14,
   "id": "33a0f9f2",
   "metadata": {},
   "outputs": [
    {
     "name": "stdout",
     "output_type": "stream",
     "text": [
      "<class 'list'>\n",
      "<class 'dict'>\n",
      "<class 'tuple'>\n"
     ]
    }
   ],
   "source": [
    "lst=[1,2,3,\"KRish\"]\n",
    "dict1={\"Name\":\"Krish\",\"Age\":20}\n",
    "tuple=(\"India\",\"England\")\n",
    "print(type(lst))\n",
    "print(type(dict1))\n",
    "print(type(tuple))"
   ]
  },
  {
   "cell_type": "code",
   "execution_count": 15,
   "id": "8caa4f7d",
   "metadata": {},
   "outputs": [
    {
     "name": "stdout",
     "output_type": "stream",
     "text": [
      "[1, 2, 3, 'KRish', 'Sunny']\n"
     ]
    }
   ],
   "source": [
    "lst=[1,2,3,\"KRish\"]\n",
    "lst.append(\"Sunny\")\n",
    "print(lst)"
   ]
  },
  {
   "cell_type": "code",
   "execution_count": 16,
   "id": "23b30d40",
   "metadata": {},
   "outputs": [
    {
     "name": "stdout",
     "output_type": "stream",
     "text": [
      "apple\n",
      "['apple', 'Watermelon']\n"
     ]
    }
   ],
   "source": [
    "fruits=[\"oranges\",\"apple\",\"Watermelon\",\"Oranges\"]\n",
    "print(fruits[1])\n",
    "print(fruits[1:3])"
   ]
  },
  {
   "cell_type": "code",
   "execution_count": 17,
   "id": "a6a528ca",
   "metadata": {},
   "outputs": [
    {
     "name": "stdout",
     "output_type": "stream",
     "text": [
      "['oranges', 'Strawberries', 'apple', 'Banana', 'Oranges']\n"
     ]
    }
   ],
   "source": [
    "fruits[2]=\"Banana\"\n",
    "fruits.insert(1,\"Strawberries\")\n",
    "print(fruits)"
   ]
  },
  {
   "cell_type": "code",
   "execution_count": 18,
   "id": "89156599",
   "metadata": {},
   "outputs": [
    {
     "name": "stdout",
     "output_type": "stream",
     "text": [
      "['oranges', 'Strawberries', 'apple', 'Banana', 'Oranges', 'Banana']\n",
      "<built-in method count of list object at 0x000001FCFDFDB1C0>\n"
     ]
    }
   ],
   "source": [
    "fruits.append(\"Banana\")\n",
    "fruits.count(\"Banana\")\n",
    "print(fruits)\n",
    "print(fruits.count)"
   ]
  },
  {
   "cell_type": "code",
   "execution_count": 19,
   "id": "8b9e5e1e",
   "metadata": {},
   "outputs": [
    {
     "name": "stdout",
     "output_type": "stream",
     "text": [
      "['Banana', 'Banana', 'Oranges', 'Strawberries', 'apple', 'oranges']\n"
     ]
    }
   ],
   "source": [
    "fruits.sort()\n",
    "print(fruits)"
   ]
  },
  {
   "cell_type": "code",
   "execution_count": 20,
   "id": "12cfe5a6",
   "metadata": {},
   "outputs": [
    {
     "name": "stdout",
     "output_type": "stream",
     "text": [
      "['oranges', 'apple', 'Strawberries', 'Oranges', 'Banana', 'Banana']\n"
     ]
    }
   ],
   "source": [
    "fruits.reverse()\n",
    "print(fruits)"
   ]
  },
  {
   "cell_type": "code",
   "execution_count": 21,
   "id": "bbe7009a",
   "metadata": {},
   "outputs": [
    {
     "name": "stdout",
     "output_type": "stream",
     "text": [
      "['Banana', 'Banana', 'Oranges', 'Strawberries', 'apple', 'oranges']\n",
      "['Strawberries']\n",
      "['apple', 'Strawberries', 'Oranges', 'Banana']\n"
     ]
    }
   ],
   "source": [
    "print(fruits[::-1])\n",
    "print(fruits[2:4:2])\n",
    "print(fruits[1:5])"
   ]
  },
  {
   "cell_type": "code",
   "execution_count": 22,
   "id": "b931f9d7",
   "metadata": {},
   "outputs": [
    {
     "name": "stdout",
     "output_type": "stream",
     "text": [
      "<built-in method pop of list object at 0x000001FCFDFDB1C0>\n"
     ]
    }
   ],
   "source": [
    "fruits.pop()\n",
    "popperd_item=fruits.pop\n",
    "print(popperd_item)"
   ]
  },
  {
   "cell_type": "code",
   "execution_count": 23,
   "id": "0cd33fb6",
   "metadata": {},
   "outputs": [
    {
     "name": "stdout",
     "output_type": "stream",
     "text": [
      "[0, 1, 4, 9, 16, 25, 36, 49, 64, 81]\n"
     ]
    }
   ],
   "source": [
    "## Iteration\n",
    "a=([x**2 for x in range(10)])\n",
    "print(a)\n"
   ]
  },
  {
   "cell_type": "code",
   "execution_count": 24,
   "id": "d517310a",
   "metadata": {},
   "outputs": [
    {
     "name": "stdout",
     "output_type": "stream",
     "text": [
      "[[1, 'Apple'], [1, 'Banana'], [2, 'Apple'], [2, 'Banana'], [3, 'Apple'], [3, 'Banana'], [4, 'Apple'], [4, 'Banana']]\n"
     ]
    }
   ],
   "source": [
    "lst1=[1,2,3,4]\n",
    "lst2=[\"Apple\",\"Banana\"]\n",
    "pair=[[i,j] for i in lst1 for j in lst2]\n",
    "print(pair)"
   ]
  },
  {
   "cell_type": "code",
   "execution_count": 25,
   "id": "6b0e99da",
   "metadata": {},
   "outputs": [
    {
     "name": "stdout",
     "output_type": "stream",
     "text": [
      "[5, 6]\n"
     ]
    }
   ],
   "source": [
    "length=[len(word) for word in lst2]\n",
    "print(length)"
   ]
  },
  {
   "cell_type": "code",
   "execution_count": 26,
   "id": "d6794d0f",
   "metadata": {},
   "outputs": [
    {
     "name": "stdout",
     "output_type": "stream",
     "text": [
      "average marks: 92.0\n",
      "Max marks: 97\n",
      "Min marks: 88\n"
     ]
    }
   ],
   "source": [
    "### Examples \n",
    "## Organizing a Report Card\n",
    "grades=[88,92,95,97,92]\n",
    "grades.append(88)\n",
    "average_grade=sum(grades)/len(grades)\n",
    "print(\"average marks:\",average_grade)\n",
    "max_marks=max(grades)\n",
    "min_marks=min(grades)\n",
    "print(\"Max marks:\",max_marks)\n",
    "print(\"Min marks:\",min_marks)"
   ]
  },
  {
   "cell_type": "code",
   "execution_count": 27,
   "id": "8e4bb0d5",
   "metadata": {},
   "outputs": [
    {
     "name": "stdout",
     "output_type": "stream",
     "text": [
      "Positive Feedback Count: 2\n",
      "User Feedback:\n",
      "- Great service!\n",
      "- Very satisfied\n",
      "- Could be better\n",
      "- Excellent experience\n",
      "- Not happy with the service\n"
     ]
    }
   ],
   "source": [
    "### Feedback reporterz\n",
    "feedback = [\"Great service!\", \"Very satisfied\", \"Could be better\", \"Excellent experience\"]\n",
    "\n",
    "# Adding new feedback\n",
    "feedback.append(\"Not happy with the service\")\n",
    "\n",
    "# Counting specific feedback\n",
    "positive_feedback_count = sum(1 for comment in feedback if \"great\" in comment.lower() or \"excellent\" in comment.lower())\n",
    "print(f\"Positive Feedback Count: {positive_feedback_count}\")\n",
    "\n",
    "# Printing all feedback\n",
    "print(\"User Feedback:\")\n",
    "for comment in feedback:\n",
    "    print(f\"- {comment}\")"
   ]
  },
  {
   "cell_type": "code",
   "execution_count": 28,
   "id": "55b54247",
   "metadata": {},
   "outputs": [
    {
     "name": "stdout",
     "output_type": "stream",
     "text": [
      "('Krish', 7.62, 33, 'Ram', 'Krish', 7.62, 33, 'Ram', 'Krish', 7.62, 33, 'Ram')\n"
     ]
    }
   ],
   "source": [
    "### tuples\n",
    "\n",
    "tup=(\"Krish\",7.62,33,\"Ram\")\n",
    "print(tup*3)"
   ]
  },
  {
   "cell_type": "code",
   "execution_count": 29,
   "id": "9b937fcc",
   "metadata": {},
   "outputs": [
    {
     "ename": "TypeError",
     "evalue": "'tuple' object does not support item assignment",
     "output_type": "error",
     "traceback": [
      "\u001b[31m---------------------------------------------------------------------------\u001b[39m",
      "\u001b[31mTypeError\u001b[39m                                 Traceback (most recent call last)",
      "\u001b[36mCell\u001b[39m\u001b[36m \u001b[39m\u001b[32mIn[29]\u001b[39m\u001b[32m, line 1\u001b[39m\n\u001b[32m----> \u001b[39m\u001b[32m1\u001b[39m \u001b[43mtup\u001b[49m\u001b[43m[\u001b[49m\u001b[32;43m2\u001b[39;49m\u001b[43m]\u001b[49m=\u001b[33m\"\u001b[39m\u001b[33mABc\u001b[39m\u001b[33m\"\u001b[39m\n\u001b[32m      2\u001b[39m \u001b[38;5;28mprint\u001b[39m(tup)\n\u001b[32m      3\u001b[39m \u001b[38;5;66;03m## Tuples are immutable\u001b[39;00m\n",
      "\u001b[31mTypeError\u001b[39m: 'tuple' object does not support item assignment"
     ]
    }
   ],
   "source": [
    "tup[2]=\"ABc\"\n",
    "print(tup)\n",
    "## Tuples are immutable"
   ]
  },
  {
   "cell_type": "code",
   "execution_count": null,
   "id": "1f90c045",
   "metadata": {},
   "outputs": [
    {
     "name": "stdout",
     "output_type": "stream",
     "text": [
      "('Krish', 12, 55)\n",
      "55\n"
     ]
    }
   ],
   "source": [
    "tup1=((\"Krish\",12,55),(\"raj\",1.21,44),(\"Ram\",281))\n",
    "print(tup1[0])\n",
    "print(tup1[0][2])"
   ]
  },
  {
   "cell_type": "code",
   "execution_count": null,
   "id": "0079e61c",
   "metadata": {},
   "outputs": [
    {
     "name": "stdout",
     "output_type": "stream",
     "text": [
      "dict_values(['raj', 21])\n",
      "dict_items([('Name', 'raj'), ('age', 21)])\n",
      "dict_keys(['Name', 'age'])\n"
     ]
    }
   ],
   "source": [
    "dic={\"Name\":\"raj\",\"age\":21}\n",
    "print(dic.values())\n",
    "print(dic.items())\n",
    "print(dic.keys())"
   ]
  },
  {
   "cell_type": "code",
   "execution_count": null,
   "id": "92e3c8ad",
   "metadata": {},
   "outputs": [
    {
     "name": "stdout",
     "output_type": "stream",
     "text": [
      "{'Name': 'AYush', 'age': 21}\n"
     ]
    }
   ],
   "source": [
    "dic[\"Name\"]=\"AYush\"\n",
    "print(dic)"
   ]
  },
  {
   "cell_type": "code",
   "execution_count": null,
   "id": "04ebf8c2",
   "metadata": {},
   "outputs": [
    {
     "name": "stdout",
     "output_type": "stream",
     "text": [
      "{'Name': 'AYush', 'age': 22}\n",
      "{'Name': 'AYush', 'age': 22}\n"
     ]
    }
   ],
   "source": [
    "student=dic\n",
    "dic[\"age\"]=22\n",
    "print(dic)\n",
    "print(student)"
   ]
  },
  {
   "cell_type": "code",
   "execution_count": null,
   "id": "690d6afb",
   "metadata": {},
   "outputs": [
    {
     "name": "stdout",
     "output_type": "stream",
     "text": [
      "{'Name': 'AYush', 'age': 27}\n",
      "{'Name': 'AYush', 'age': 22}\n"
     ]
    }
   ],
   "source": [
    "student1=dic.copy()\n",
    "dic[\"age\"]=27\n",
    "print(dic)\n",
    "print(student1)\n",
    "\n"
   ]
  },
  {
   "cell_type": "code",
   "execution_count": null,
   "id": "5fe12851",
   "metadata": {},
   "outputs": [
    {
     "name": "stdout",
     "output_type": "stream",
     "text": [
      "{0: 0, 2: 4, 4: 16}\n"
     ]
    }
   ],
   "source": [
    "squares={x:x**2 for x in range(5)\n",
    "         if x%2==0}\n",
    "print(squares)"
   ]
  },
  {
   "cell_type": "code",
   "execution_count": null,
   "id": "4665eda0",
   "metadata": {},
   "outputs": [
    {
     "name": "stdout",
     "output_type": "stream",
     "text": [
      "{'a': 1, 'b': 3, 'c': 4}\n"
     ]
    }
   ],
   "source": [
    "dict1={\"a\":1,\"b\":2}\n",
    "dict2={\"b\":3,\"c\":4}\n",
    "merged_dict={**dict1,**dict2}\n",
    "print(merged_dict)"
   ]
  },
  {
   "cell_type": "code",
   "execution_count": null,
   "id": "dc92a304",
   "metadata": {},
   "outputs": [
    {
     "name": "stdout",
     "output_type": "stream",
     "text": [
      "{'Name': 'AYush', 'age': 21}\n"
     ]
    }
   ],
   "source": [
    "dic[\"Name\"]=\"AYush\"\n",
    "print(dic)"
   ]
  }
 ],
 "metadata": {
  "kernelspec": {
   "display_name": "Python 3",
   "language": "python",
   "name": "python3"
  },
  "language_info": {
   "codemirror_mode": {
    "name": "ipython",
    "version": 3
   },
   "file_extension": ".py",
   "mimetype": "text/x-python",
   "name": "python",
   "nbconvert_exporter": "python",
   "pygments_lexer": "ipython3",
   "version": "3.12.0"
  }
 },
 "nbformat": 4,
 "nbformat_minor": 5
}
