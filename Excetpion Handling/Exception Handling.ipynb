{
 "cells": [
  {
   "cell_type": "code",
   "execution_count": 1,
   "id": "47fa6d9b",
   "metadata": {},
   "outputs": [
    {
     "ename": "NameError",
     "evalue": "name 'b' is not defined",
     "output_type": "error",
     "traceback": [
      "\u001b[31m---------------------------------------------------------------------------\u001b[39m",
      "\u001b[31mNameError\u001b[39m                                 Traceback (most recent call last)",
      "\u001b[36mCell\u001b[39m\u001b[36m \u001b[39m\u001b[32mIn[1]\u001b[39m\u001b[32m, line 1\u001b[39m\n\u001b[32m----> \u001b[39m\u001b[32m1\u001b[39m a=\u001b[43mb\u001b[49m\n\u001b[32m      2\u001b[39m \u001b[38;5;28mprint\u001b[39m(a)\n",
      "\u001b[31mNameError\u001b[39m: name 'b' is not defined"
     ]
    }
   ],
   "source": [
    "a=b\n",
    "print(a)"
   ]
  },
  {
   "cell_type": "code",
   "execution_count": 2,
   "id": "70c9633e",
   "metadata": {},
   "outputs": [
    {
     "name": "stdout",
     "output_type": "stream",
     "text": [
      "Value not Assigned\n"
     ]
    }
   ],
   "source": [
    "### to remove this error\n",
    "try:\n",
    "    a=b\n",
    "except:\n",
    "    print(\"Value not Assigned\")"
   ]
  },
  {
   "cell_type": "code",
   "execution_count": 3,
   "id": "5fb689cd",
   "metadata": {},
   "outputs": [
    {
     "name": "stdout",
     "output_type": "stream",
     "text": [
      "name 'b' is not defined\n"
     ]
    }
   ],
   "source": [
    "### For similar conditions\n",
    "try:\n",
    "    a = b\n",
    "except NameError as ex:\n",
    "    print(ex)"
   ]
  },
  {
   "cell_type": "code",
   "execution_count": 5,
   "id": "54b81f48",
   "metadata": {},
   "outputs": [
    {
     "name": "stdout",
     "output_type": "stream",
     "text": [
      "Division by zero is not allowed\n"
     ]
    }
   ],
   "source": [
    "try:\n",
    "    1/0\n",
    "except ZeroDivisionError as ex:\n",
    "    print(\"Division by zero is not allowed\")"
   ]
  },
  {
   "cell_type": "code",
   "execution_count": 8,
   "id": "b54df61f",
   "metadata": {},
   "outputs": [
    {
     "name": "stdout",
     "output_type": "stream",
     "text": [
      "An error occurred: name 'b' is not defined\n"
     ]
    }
   ],
   "source": [
    "#### For all the errors =, we can use Exception\n",
    "try:\n",
    "    a = b\n",
    "except Exception as ex1:\n",
    "    print(\"An error occurred:\", ex1)"
   ]
  },
  {
   "cell_type": "code",
   "execution_count": 12,
   "id": "0452b3bb",
   "metadata": {},
   "outputs": [
    {
     "name": "stdout",
     "output_type": "stream",
     "text": [
      "Result is 11.5\n"
     ]
    }
   ],
   "source": [
    "### try,except,else\n",
    "try:\n",
    "    Value=int(input(\"Enter a number: \"))\n",
    "    ex=115/Value\n",
    "except ZeroDivisionError as ex:\n",
    "    print(\"Please Enter a non zero no\")\n",
    "except ValueError as ex:\n",
    "    print(\"Please enter a valid no\")\n",
    "else:\n",
    "    print(f\"Result is {ex}\")"
   ]
  },
  {
   "cell_type": "code",
   "execution_count": 13,
   "id": "56ffd807",
   "metadata": {},
   "outputs": [
    {
     "name": "stdout",
     "output_type": "stream",
     "text": [
      "Result is 11.5\n",
      "Exectuion completed\n"
     ]
    }
   ],
   "source": [
    "### try,except,else,finally\n",
    "try:\n",
    "    Value=int(input(\"Enter a number: \"))\n",
    "    ex=115/Value\n",
    "except ZeroDivisionError as ex:\n",
    "    print(\"Please Enter a non zero no\")\n",
    "except ValueError as ex:\n",
    "    print(\"Please enter a valid no\")\n",
    "else:\n",
    "    print(f\"Result is {ex}\")\n",
    "finally:\n",
    "    print(\"Exectuion completed\")"
   ]
  },
  {
   "cell_type": "code",
   "execution_count": null,
   "id": "32c9684c",
   "metadata": {},
   "outputs": [],
   "source": []
  }
 ],
 "metadata": {
  "kernelspec": {
   "display_name": "Python 3",
   "language": "python",
   "name": "python3"
  },
  "language_info": {
   "codemirror_mode": {
    "name": "ipython",
    "version": 3
   },
   "file_extension": ".py",
   "mimetype": "text/x-python",
   "name": "python",
   "nbconvert_exporter": "python",
   "pygments_lexer": "ipython3",
   "version": "3.12.0"
  }
 },
 "nbformat": 4,
 "nbformat_minor": 5
}
