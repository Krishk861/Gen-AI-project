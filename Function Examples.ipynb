{
 "cells": [
  {
   "cell_type": "code",
   "execution_count": 8,
   "id": "1973c267",
   "metadata": {},
   "outputs": [
    {
     "name": "stdout",
     "output_type": "stream",
     "text": [
      "77.0\n",
      "25.0\n"
     ]
    }
   ],
   "source": [
    "### Temperature Converter\n",
    "def temp_convertor(temp,unit):\n",
    "    if unit=='C':\n",
    "        return temp*(9/5)+32\n",
    "    elif unit=='F':\n",
    "        return (temp-32)*5/9\n",
    "    else:\n",
    "        return None\n",
    "   \n",
    "   \n",
    "print(temp_convertor(25,'C'))\n",
    "print(temp_convertor(77,'F'))\n"
   ]
  },
  {
   "cell_type": "code",
   "execution_count": 15,
   "id": "601695c7",
   "metadata": {},
   "outputs": [
    {
     "name": "stdout",
     "output_type": "stream",
     "text": [
      "False\n",
      "True\n"
     ]
    }
   ],
   "source": [
    "## Password Strength Checker\n",
    "def is_a_strong_password(password):\n",
    "    if len(password)<8:\n",
    "        return False\n",
    "    if not any (char.isupper() for char in password):\n",
    "        return False\n",
    "    if not any (char.islower() for char in password):\n",
    "        return False\n",
    "    if not any (char in \"!@#$%^&*\" for char in password):\n",
    "        return False\n",
    "    return True\n",
    "   \n",
    "   \n",
    "print(is_a_strong_password(\"qidjij\"))\n",
    "print(is_a_strong_password(\"#H2Owater\"))\n"
   ]
  },
  {
   "cell_type": "code",
   "execution_count": 17,
   "id": "48c89468",
   "metadata": {},
   "outputs": [
    {
     "name": "stdout",
     "output_type": "stream",
     "text": [
      "3628800\n"
     ]
    }
   ],
   "source": [
    "## Factorial\n",
    "def factotrial(n):\n",
    "    if n==0:\n",
    "        return 1\n",
    "    else: \n",
    "        return n *factotrial(n-1)\n",
    "print(factotrial(10))"
   ]
  },
  {
   "cell_type": "code",
   "execution_count": null,
   "id": "412e46f9",
   "metadata": {},
   "outputs": [],
   "source": []
  }
 ],
 "metadata": {
  "kernelspec": {
   "display_name": "Python 3",
   "language": "python",
   "name": "python3"
  },
  "language_info": {
   "codemirror_mode": {
    "name": "ipython",
    "version": 3
   },
   "file_extension": ".py",
   "mimetype": "text/x-python",
   "name": "python",
   "nbconvert_exporter": "python",
   "pygments_lexer": "ipython3",
   "version": "3.12.0"
  }
 },
 "nbformat": 4,
 "nbformat_minor": 5
}
