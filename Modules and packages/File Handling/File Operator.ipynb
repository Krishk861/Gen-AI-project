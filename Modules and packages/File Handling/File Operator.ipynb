{
 "cells": [
  {
   "cell_type": "code",
   "execution_count": 3,
   "id": "081b97f2",
   "metadata": {},
   "outputs": [
    {
     "name": "stdout",
     "output_type": "stream",
     "text": [
      "Hi my name is Krish.\n",
      "I am 20 years old.\n"
     ]
    }
   ],
   "source": [
    "### Opening file\n",
    "with open('My intro.txt','r') as file:\n",
    "    content = file.read()\n",
    "    print(content)"
   ]
  },
  {
   "cell_type": "code",
   "execution_count": 16,
   "id": "77a1993d",
   "metadata": {},
   "outputs": [],
   "source": [
    "with open('My intro.txt','w') as file:\n",
    "    file.write('This is a new line.\\n')\n",
    "    file.write('This is another new line.\\n')"
   ]
  },
  {
   "cell_type": "code",
   "execution_count": 17,
   "id": "3b94294b",
   "metadata": {},
   "outputs": [],
   "source": [
    "data= b'\\x00123\\x00\\x00\\x00\\x00\\x00\\x00\\x00\\x00'\n",
    "with open('txt.bin','wb') as file:\n",
    "    file.write(data)"
   ]
  },
  {
   "cell_type": "code",
   "execution_count": 20,
   "id": "27639c6e",
   "metadata": {},
   "outputs": [
    {
     "name": "stdout",
     "output_type": "stream",
     "text": [
      "My name is John Wick.\n",
      "I am a retired hitman.\n",
      "\n"
     ]
    }
   ],
   "source": [
    "with open('My intro.txt','w+') as file1:\n",
    "    file1.write(\"My name is John Wick.\\n\")\n",
    "    file1.write(\"I am a retired hitman.\\n\")\n",
    "    #### to read the file\n",
    "    file1.seek(0)  # Move the cursor to the beginning of the file\n",
    "    con=file1.read()\n",
    "    print(con)\n"
   ]
  },
  {
   "cell_type": "code",
   "execution_count": null,
   "id": "c5289f2d",
   "metadata": {},
   "outputs": [],
   "source": []
  }
 ],
 "metadata": {
  "kernelspec": {
   "display_name": "Python 3",
   "language": "python",
   "name": "python3"
  },
  "language_info": {
   "codemirror_mode": {
    "name": "ipython",
    "version": 3
   },
   "file_extension": ".py",
   "mimetype": "text/x-python",
   "name": "python",
   "nbconvert_exporter": "python",
   "pygments_lexer": "ipython3",
   "version": "3.12.0"
  }
 },
 "nbformat": 4,
 "nbformat_minor": 5
}
