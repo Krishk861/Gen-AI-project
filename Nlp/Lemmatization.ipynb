{
 "cells": [
  {
   "cell_type": "code",
   "execution_count": 8,
   "id": "be4716b1",
   "metadata": {},
   "outputs": [
    {
     "data": {
      "text/plain": [
       "'go'"
      ]
     },
     "execution_count": 8,
     "metadata": {},
     "output_type": "execute_result"
    }
   ],
   "source": [
    "from nltk.stem import WordNetLemmatizer\n",
    "lemmatizer=WordNetLemmatizer()\n",
    "lemmatizer.lemmatize(\"going\",pos=\"v\")"
   ]
  },
  {
   "cell_type": "code",
   "execution_count": 3,
   "id": "a2e7084a",
   "metadata": {},
   "outputs": [
    {
     "name": "stderr",
     "output_type": "stream",
     "text": [
      "[nltk_data] Downloading package wordnet to\n",
      "[nltk_data]     C:\\Users\\krish\\AppData\\Roaming\\nltk_data...\n"
     ]
    },
    {
     "data": {
      "text/plain": [
       "True"
      ]
     },
     "execution_count": 3,
     "metadata": {},
     "output_type": "execute_result"
    }
   ],
   "source": [
    "import nltk\n",
    "nltk.download(\"wordnet\")"
   ]
  },
  {
   "cell_type": "code",
   "execution_count": null,
   "id": "479ce9e4",
   "metadata": {},
   "outputs": [],
   "source": [
    "#### Noun- n,verb-v,adjective-a,adverb-r"
   ]
  },
  {
   "cell_type": "code",
   "execution_count": 9,
   "id": "655d6738",
   "metadata": {},
   "outputs": [
    {
     "name": "stdout",
     "output_type": "stream",
     "text": [
      "Go---->Go\n",
      "Goes---->Goes\n",
      "Going---->Going\n",
      "Eat---->Eat\n",
      "Eaten---->Eaten\n",
      "Program---->Program\n",
      "Programmed---->Programmed\n",
      "Programming---->Programming\n"
     ]
    }
   ],
   "source": [
    "#### Stemming\n",
    "words=[\"Go\",\"Goes\",\"Going\",\"Eat\",\"Eaten\",\"Program\",\"Programmed\",\"Programming\"]\n",
    "for word in words:\n",
    "    print(word+\"---->\"+lemmatizer.lemmatize(word,pos=\"v\"))"
   ]
  },
  {
   "cell_type": "code",
   "execution_count": null,
   "id": "fd3475ee",
   "metadata": {},
   "outputs": [],
   "source": []
  },
  {
   "cell_type": "code",
   "execution_count": null,
   "id": "472e4967",
   "metadata": {},
   "outputs": [],
   "source": []
  },
  {
   "cell_type": "code",
   "execution_count": null,
   "id": "1a0f5c81",
   "metadata": {},
   "outputs": [],
   "source": []
  }
 ],
 "metadata": {
  "kernelspec": {
   "display_name": "Python 3",
   "language": "python",
   "name": "python3"
  },
  "language_info": {
   "codemirror_mode": {
    "name": "ipython",
    "version": 3
   },
   "file_extension": ".py",
   "mimetype": "text/x-python",
   "name": "python",
   "nbconvert_exporter": "python",
   "pygments_lexer": "ipython3",
   "version": "3.12.0"
  }
 },
 "nbformat": 4,
 "nbformat_minor": 5
}
