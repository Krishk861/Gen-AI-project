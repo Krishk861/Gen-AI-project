{
 "cells": [
  {
   "cell_type": "code",
   "execution_count": null,
   "id": "dda82412",
   "metadata": {},
   "outputs": [],
   "source": [
    "#### Stemming\n",
    "words=[\"Go\",\"Goes\",\"Going\",\"Eat\",\"Eaten\",\"Program\",\"Programmed\",\"Programming\"]"
   ]
  },
  {
   "cell_type": "code",
   "execution_count": 2,
   "id": "eb552d53",
   "metadata": {},
   "outputs": [
    {
     "name": "stdout",
     "output_type": "stream",
     "text": [
      "Go---->go\n",
      "Goes---->goe\n",
      "Going---->go\n",
      "Eat---->eat\n",
      "Eaten---->eaten\n",
      "Program---->program\n",
      "Programmed---->program\n",
      "Programming---->program\n"
     ]
    }
   ],
   "source": [
    "### PorterStemmer\n",
    "words=[\"Go\",\"Goes\",\"Going\",\"Eat\",\"Eaten\",\"Program\",\"Programmed\",\"Programming\"]\n",
    "from nltk.stem import PorterStemmer\n",
    "stemming=PorterStemmer()\n",
    "for word in words:\n",
    "    print(word+\"---->\"+stemming.stem(word))"
   ]
  },
  {
   "cell_type": "code",
   "execution_count": 3,
   "id": "6fdbba51",
   "metadata": {},
   "outputs": [
    {
     "data": {
      "text/plain": [
       "'hate'"
      ]
     },
     "execution_count": 3,
     "metadata": {},
     "output_type": "execute_result"
    }
   ],
   "source": [
    "stemming.stem(\"Hating\")"
   ]
  },
  {
   "cell_type": "code",
   "execution_count": 4,
   "id": "d34a6bac",
   "metadata": {},
   "outputs": [
    {
     "data": {
      "text/plain": [
       "'Understand'"
      ]
     },
     "execution_count": 4,
     "metadata": {},
     "output_type": "execute_result"
    }
   ],
   "source": [
    "### RegxpStemmer class\n",
    "from nltk.stem import RegexpStemmer\n",
    "reg_ex=RegexpStemmer(\"ing$|s$|es$|able$\",min=4)\n",
    "reg_ex.stem(\"Understandable\")"
   ]
  },
  {
   "cell_type": "code",
   "execution_count": 5,
   "id": "025bcd5a",
   "metadata": {},
   "outputs": [
    {
     "data": {
      "text/plain": [
       "'Eat'"
      ]
     },
     "execution_count": 5,
     "metadata": {},
     "output_type": "execute_result"
    }
   ],
   "source": [
    "reg_ex.stem(\"Eats\")"
   ]
  },
  {
   "cell_type": "code",
   "execution_count": 7,
   "id": "29c64ede",
   "metadata": {},
   "outputs": [
    {
     "ename": "TypeError",
     "evalue": "'SnowballStemmer' object is not callable",
     "output_type": "error",
     "traceback": [
      "\u001b[31m---------------------------------------------------------------------------\u001b[39m",
      "\u001b[31mTypeError\u001b[39m                                 Traceback (most recent call last)",
      "\u001b[36mCell\u001b[39m\u001b[36m \u001b[39m\u001b[32mIn[7]\u001b[39m\u001b[32m, line 5\u001b[39m\n\u001b[32m      3\u001b[39m Snow_Stem=SnowballStemmer(\u001b[33m'\u001b[39m\u001b[33menglish\u001b[39m\u001b[33m'\u001b[39m)\n\u001b[32m      4\u001b[39m \u001b[38;5;28;01mfor\u001b[39;00m word \u001b[38;5;129;01min\u001b[39;00m words:\n\u001b[32m----> \u001b[39m\u001b[32m5\u001b[39m     \u001b[38;5;28mprint\u001b[39m(word+\u001b[33m\"\u001b[39m\u001b[33m---->\u001b[39m\u001b[33m\"\u001b[39m+\u001b[43mSnow_Stem\u001b[49m\u001b[43m(\u001b[49m\u001b[43mword\u001b[49m\u001b[43m)\u001b[49m)\n",
      "\u001b[31mTypeError\u001b[39m: 'SnowballStemmer' object is not callable"
     ]
    }
   ],
   "source": [
    "### SNowball Stemmer\n",
    "from nltk.stem import SnowballStemmer\n",
    "Snow_Stem=SnowballStemmer('english')\n",
    "for word in words:\n",
    "    print(word+\"---->\"+Snow_Stem(word))"
   ]
  },
  {
   "cell_type": "code",
   "execution_count": 9,
   "id": "426af764",
   "metadata": {},
   "outputs": [
    {
     "data": {
      "text/plain": [
       "'fairli'"
      ]
     },
     "execution_count": 9,
     "metadata": {},
     "output_type": "execute_result"
    }
   ],
   "source": [
    "stemming.stem(\"fairly\")"
   ]
  },
  {
   "cell_type": "code",
   "execution_count": 11,
   "id": "e89c93c2",
   "metadata": {},
   "outputs": [
    {
     "data": {
      "text/plain": [
       "'fair'"
      ]
     },
     "execution_count": 11,
     "metadata": {},
     "output_type": "execute_result"
    }
   ],
   "source": [
    "Snow_Stem.stem(\"fairly\")"
   ]
  },
  {
   "cell_type": "code",
   "execution_count": null,
   "id": "cba5158f",
   "metadata": {},
   "outputs": [],
   "source": []
  }
 ],
 "metadata": {
  "kernelspec": {
   "display_name": "Python 3",
   "language": "python",
   "name": "python3"
  },
  "language_info": {
   "codemirror_mode": {
    "name": "ipython",
    "version": 3
   },
   "file_extension": ".py",
   "mimetype": "text/x-python",
   "name": "python",
   "nbconvert_exporter": "python",
   "pygments_lexer": "ipython3",
   "version": "3.12.0"
  }
 },
 "nbformat": 4,
 "nbformat_minor": 5
}
